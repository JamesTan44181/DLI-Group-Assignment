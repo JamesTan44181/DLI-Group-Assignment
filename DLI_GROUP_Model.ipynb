{
  "nbformat": 4,
  "nbformat_minor": 0,
  "metadata": {
    "colab": {
      "provenance": [],
      "authorship_tag": "ABX9TyM+eXFDRRp8rOOoSjodIZOh",
      "include_colab_link": true
    },
    "kernelspec": {
      "name": "python3",
      "display_name": "Python 3"
    },
    "language_info": {
      "name": "python"
    }
  },
  "cells": [
    {
      "cell_type": "markdown",
      "metadata": {
        "id": "view-in-github",
        "colab_type": "text"
      },
      "source": [
        "<a href=\"https://colab.research.google.com/github/JamesTan44181/DLI-Group-Assignment/blob/main/DLI_GROUP_Model.ipynb\" target=\"_parent\"><img src=\"https://colab.research.google.com/assets/colab-badge.svg\" alt=\"Open In Colab\"/></a>"
      ]
    },
    {
      "cell_type": "markdown",
      "source": [
        "Step1: Data preprocessing"
      ],
      "metadata": {
        "id": "s6Epb4rqMucD"
      }
    },
    {
      "cell_type": "code",
      "execution_count": 1,
      "metadata": {
        "colab": {
          "base_uri": "https://localhost:8080/"
        },
        "id": "OCn9liBhL16I",
        "outputId": "77ba10ba-2d78-4c8d-9f87-79413ac57f35"
      },
      "outputs": [
        {
          "output_type": "stream",
          "name": "stdout",
          "text": [
            "   url_length  has_ip_address  dot_count  https_flag  url_entropy  \\\n",
            "0          47               0          2           1     4.250669   \n",
            "1          40               0          2           1     4.196439   \n",
            "2          23               0          1           0     3.936180   \n",
            "3          30               0          1           0     3.894740   \n",
            "4          47               0          1           1     4.143127   \n",
            "\n",
            "   token_count  subdomain_count  query_param_count  tld_length  path_length  \\\n",
            "0            6                1                  1           3            1   \n",
            "1            6                1                  1           3            1   \n",
            "2            5                0                  1           2            1   \n",
            "3            5                0                  1           3            1   \n",
            "4            7                0                  1           3           18   \n",
            "\n",
            "   has_hyphen_in_domain  number_of_digits  tld_popularity  \\\n",
            "0                     1                 0               1   \n",
            "1                     0                 2               1   \n",
            "2                     0                 0               0   \n",
            "3                     1                 0               1   \n",
            "4                     0                 0               1   \n",
            "\n",
            "   suspicious_file_extension  domain_name_length  percentage_numeric_chars  \\\n",
            "0                          0                  12                       0.0   \n",
            "1                          0                  12                       5.0   \n",
            "2                          0                  12                       0.0   \n",
            "3                          0                  18                       0.0   \n",
            "4                          0                  17                       0.0   \n",
            "\n",
            "   ClassLabel  \n",
            "0         0.0  \n",
            "1         0.0  \n",
            "2         0.0  \n",
            "3         0.0  \n",
            "4         0.0  \n",
            "[[47.  0.  2. ...  0. 12.  0.]\n",
            " [40.  0.  2. ...  0. 12.  5.]\n",
            " [23.  0.  1. ...  0. 12.  0.]\n",
            " ...\n",
            " [23.  0.  2. ...  0.  8.  0.]\n",
            " [27.  0.  2. ...  0. 12.  0.]\n",
            " [28.  0.  2. ...  0. 12.  0.]]\n",
            "[0. 0. 0. ... 1. 1. 1.]\n"
          ]
        }
      ],
      "source": [
        "import pandas as pd\n",
        "url = \"https://raw.githubusercontent.com/JamesTan44181/DLI-Group-Assignment/main/cleaned_balanced_dataset.csv\"\n",
        "read_file = pd.read_csv(url)\n",
        "\n",
        "#confirm successful read file\n",
        "print(read_file.head())\n",
        "\n",
        "#setting features, and label (target user)\n",
        "x = read_file.iloc[:, :-1].values\n",
        "y = read_file.iloc[:, -1].values\n",
        "\n",
        "#confirmation for features and label\n",
        "print(x)\n",
        "print(y)\n",
        "\n",
        "#splitting data into training and test set\n",
        "from sklearn.model_selection import train_test_split\n",
        "x_train, x_test, y_train, y_test = train_test_split(x, y, test_size = 0.2, random_state=42, stratify=y)\n",
        "\n",
        "#features scaling\n",
        "from sklearn.preprocessing import StandardScaler\n",
        "sc = StandardScaler()\n",
        "X_train = sc.fit_transform(x_train)\n",
        "X_test = sc.transform(x_test)"
      ]
    },
    {
      "cell_type": "markdown",
      "source": [
        "Step2: Model"
      ],
      "metadata": {
        "id": "ikTnkAGuNKqC"
      }
    },
    {
      "cell_type": "code",
      "source": [
        "import numpy as np\n",
        "import tensorflow as tf\n",
        "import pandas as pd\n",
        "from keras.models import Sequential\n",
        "from keras.layers import Dense\n",
        "import os\n",
        "\n",
        "#setting random seeds\n",
        "np.random.seed(42)\n",
        "tf.random.set_seed(42)\n",
        "\n",
        "#Define Keras Model\n",
        "model = Sequential()\n",
        "model.add(Dense(64, activation='relu', input_shape=(X_train.shape[1],)))\n",
        "model.add(Dense(32, activation='relu'))\n",
        "model.add(Dense(1, activation='sigmoid'))\n",
        "\n",
        "#hyperparamater\n",
        "learning_rate = 0.001\n",
        "optimizer = tf.keras.optimizers.Adam(learning_rate=learning_rate)\n",
        "\n",
        "#Compiling and Training the Model\n",
        "model.compile(optimizer=optimizer, loss='binary_crossentropy', metrics=['accuracy'])\n",
        "model.summary()\n",
        "\n",
        "#Fit keras model\n",
        "#This line trains the compiled model using the data we prepared earlier.\n",
        "#Calculate training time\n",
        "import time\n",
        "start_time = time.time()\n",
        "history = model.fit(X_train, y_train, validation_data=(X_test, y_test), epochs=10, batch_size=32,verbose=1)\n",
        "end_time = time.time()\n",
        "print(f\"Training time: {end_time - start_time:.2f} seconds\")"
      ],
      "metadata": {
        "id": "PECzTkVkNN23"
      },
      "execution_count": null,
      "outputs": []
    },
    {
      "cell_type": "markdown",
      "source": [
        "Step3: Evaluation"
      ],
      "metadata": {
        "id": "9uFsWZCKNh-O"
      }
    },
    {
      "cell_type": "code",
      "source": [
        "#Fitting the Model and Predicting Anomalies\n",
        "from sklearn.metrics import confusion_matrix, classification_report, roc_curve, auc, precision_score, recall_score, f1_score\n",
        "y_pred_prob = model.predict(X_test)\n",
        "y_pred = (y_pred_prob > 0.5).astype(int)\n",
        "\n",
        "#Evaluation metrics\n",
        "acc = np.mean(y_pred.flatten() == y_test)\n",
        "precision = precision_score(y_test, y_pred)\n",
        "recall = recall_score(y_test, y_pred)\n",
        "f1 = f1_score(y_test, y_pred)\n",
        "fpr, tpr, thresholds = roc_curve(y_test, y_pred_prob)\n",
        "roc_auc = auc(fpr, tpr)\n",
        "\n",
        "print(\"\\n📊 Evaluation Results:\")\n",
        "print(f\"Accuracy:  {acc:.4f}\")\n",
        "print(f\"Precision: {precision:.4f}\")\n",
        "print(f\"Recall:    {recall:.4f}\")\n",
        "print(f\"F1-score:  {f1:.4f}\")\n",
        "print(f\"ROC-AUC:   {roc_auc:.4f}\")\n",
        "\n",
        "#Draw ROC curve\n",
        "import matplotlib.pyplot as plt\n",
        "plt.figure()\n",
        "plt.plot(fpr, tpr, color='darkorange', lw=2, label=f'ROC curve (area = {roc_auc:.4f})')\n",
        "plt.plot([0, 1], [0, 1], color='navy', lw=2, linestyle='--')\n",
        "plt.xlim([0.0, 1.0])\n",
        "plt.ylim([0.0, 1.05])\n",
        "plt.xlabel('False Positive Rate')\n",
        "plt.ylabel('True Positive Rate')\n",
        "plt.title('Receiver Operating Characteristic (ROC) Curve')\n",
        "plt.legend(loc=\"lower right\")\n",
        "plt.show()\n",
        "\n",
        "# Confusion Matrix\n",
        "import seaborn as sns\n",
        "cm = confusion_matrix(y_test, y_pred)\n",
        "plt.figure(figsize=(5,4))\n",
        "sns.heatmap(cm, annot=True, fmt=\"d\", cmap=\"Blues\")\n",
        "plt.xlabel(\"Predicted\")\n",
        "plt.ylabel(\"Actual\")\n",
        "plt.title(\"Confusion Matrix\")\n",
        "plt.show()"
      ],
      "metadata": {
        "id": "GZGRvwVCNizG"
      },
      "execution_count": null,
      "outputs": []
    },
    {
      "cell_type": "markdown",
      "source": [
        "Step4: Save and verdict the model"
      ],
      "metadata": {
        "id": "BENvVEH4NrJT"
      }
    },
    {
      "cell_type": "code",
      "source": [
        "#Save\n",
        "model.save(\"phishing_model.keras\")\n",
        "print(\"Model saved as phishing_model.keras\")\n",
        "pd.DataFrame(X_test).to_csv(\"X_test.csv\", index=False)\n",
        "pd.DataFrame(y_test).to_csv(\"y_test.csv\", index=False)\n",
        "print(\"Test data saved as X_test.csv and y_test.csv\")\n",
        "\n",
        "#Verdict\n",
        "#F1-score is the harmonic mean of Precision and Recall\n",
        "if f1 >=0.9:\n",
        "  print(f\"Success: Achieved F1 = {f1:.4f}, target met.\")\n",
        "else:\n",
        "    print(f\"F1 = {f1:.4f}, target not met.\")"
      ],
      "metadata": {
        "id": "jCdspcMrNq5V"
      },
      "execution_count": null,
      "outputs": []
    }
  ]
}